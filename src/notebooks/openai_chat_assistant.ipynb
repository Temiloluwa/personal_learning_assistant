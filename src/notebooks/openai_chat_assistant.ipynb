{
 "cells": [
  {
   "cell_type": "code",
   "execution_count": 1,
   "metadata": {},
   "outputs": [
    {
     "data": {
      "text/plain": [
       "True"
      ]
     },
     "execution_count": 1,
     "metadata": {},
     "output_type": "execute_result"
    }
   ],
   "source": [
    "import os\n",
    "from dotenv import load_dotenv\n",
    "from openai import OpenAI\n",
    "\n",
    "load_dotenv()"
   ]
  },
  {
   "cell_type": "code",
   "execution_count": 2,
   "metadata": {},
   "outputs": [
    {
     "name": "stdout",
     "output_type": "stream",
     "text": [
      "Hello! How can I assist you today?\n"
     ]
    }
   ],
   "source": [
    "\n",
    "client = OpenAI(\n",
    "    # This is the default and can be omitted\n",
    "    api_key=os.environ.get(\"OPENAI_API_KEY\"),\n",
    ")\n",
    "\n",
    "completion = client.chat.completions.create(\n",
    "  model=\"gpt-3.5-turbo\",\n",
    "  messages=[\n",
    "    {\"role\": \"system\", \"content\": \"You are a helpful assistant.\"},\n",
    "    {\"role\": \"user\", \"content\": \"Hello!\"}\n",
    "  ]\n",
    ")\n",
    "\n",
    "print(completion.choices[0].message.content)"
   ]
  },
  {
   "cell_type": "code",
   "execution_count": 3,
   "metadata": {},
   "outputs": [],
   "source": [
    "from typing import List\n",
    "from datetime import datetime\n",
    "import pytz\n",
    "import os  # Added import for os\n",
    "\n",
    "class Message:\n",
    "    __slots__ = ['role', 'content', 'timestamp']\n",
    "    \n",
    "    def __init__(self, role=\"User\", content=\"\", timestamp=None):\n",
    "        self.role = role\n",
    "        self.content = content\n",
    "        if timestamp:\n",
    "            self.timestamp = timestamp\n",
    "        else:\n",
    "            berlin_timezone = pytz.timezone('Europe/Berlin')\n",
    "            berlin_time = datetime.now(berlin_timezone)\n",
    "            self.timestamp = berlin_time.strftime(\"%Y-%m-%d %H:%M:%S\")\n",
    "\n",
    "    def __repr__(self):\n",
    "        return f\"Message(role='{self.role}', content='{self.content}', timestamp='{self.timestamp}')\"\n",
    "\n",
    "    def prep(self):\n",
    "        return {\"role\": self.role, \"content\": self.content}\n",
    "\n",
    "\n",
    "class Assistant:\n",
    "    \n",
    "    def __init__(self,  system_message: str=\"\", \n",
    "                        chat_config: dict = {},\n",
    "                        api_key_path: str=\"\"):\n",
    "        \n",
    "        if not api_key_path:\n",
    "            try:\n",
    "                api_key_path = os.environ[\"OPENAI_API_KEY\"]\n",
    "            except KeyError:\n",
    "                raise ValueError(\"OpenAI API key not supplied\")\n",
    "\n",
    "        self.client = OpenAI(api_key=api_key_path)\n",
    "        self.convo_history: List[Message] = []\n",
    "        self._init_assistant(system_message, chat_config) \n",
    "\n",
    "\n",
    "    def _init_assistant(self, system_message: str=\"\", \n",
    "                        chat_config: dict = {}): \n",
    "          \n",
    "        if not system_message:\n",
    "            system_message = \"You are a helpful assistant.\"\n",
    "            print(f\"Using default system message: {system_message}\")  \n",
    "        \n",
    "        self.convo_history.append(Message(role=\"system\", content=system_message))\n",
    "        self.chat_config = {\"model\": \"gpt-3.5-turbo\"}\n",
    "\n",
    "    def _continue_convo(self, user_message: str) -> List[Message]:  \n",
    "        if not self.convo_history:\n",
    "            raise ValueError(\"Conversation history should have started\")\n",
    "        self.convo_history.append(Message(role=\"user\", content=user_message))\n",
    "        return self.convo_history\n",
    "\n",
    "    def configure_convo(self, chat_config: dict):\n",
    "        self.chat_config = chat_config\n",
    "        return self\n",
    "\n",
    "    def prep_history(self, summarize_history: bool = False) -> List[dict]:\n",
    "\n",
    "        messages = [message.prep() for message in self.convo_history]\n",
    "        if summarize_history:\n",
    "            pass\n",
    "            \n",
    "        return messages\n",
    "    \n",
    "    def chat(self, user_message: str) -> str:\n",
    "        \n",
    "        if not user_message:\n",
    "            raise ValueError(\"No User message input\")\n",
    "        \n",
    "        self._continue_convo(user_message)\n",
    "        messages = self.prep_history()\n",
    "        completion = self.client.chat.completions.create(**self.chat_config, messages=messages)  # Unpacked chat_config\n",
    "        response = completion.choices[0].message.content\n",
    "        \n",
    "        self.convo_history.append(Message(role=\"assistant\", content=response))\n",
    "        \n",
    "        return self.convo_history[-1].content"
   ]
  },
  {
   "cell_type": "markdown",
   "metadata": {},
   "source": [
    "### Test Assistant Default settings"
   ]
  },
  {
   "cell_type": "code",
   "execution_count": 4,
   "metadata": {},
   "outputs": [
    {
     "name": "stdout",
     "output_type": "stream",
     "text": [
      "Using default system message: You are a helpful assistant.\n"
     ]
    },
    {
     "data": {
      "text/plain": [
       "'Impressing your girlfriend requires thoughtfulness, sincerity, and effort. Here are some suggestions to help you make a positive impression:\\n\\n1. Show genuine interest in her - Listen attentively, ask her questions, and make her feel heard and understood.\\n\\n2. Plan thoughtful surprises - Surprise her with her favorite things or plan a special date that shows you put thought into her likes and interests.\\n\\n3. Compliment her - Sincerely compliment her on her achievements, qualities, and appearance.\\n\\n4. Show affection - Express your love and appreciation through physical touch, such as holding hands, hugging, or kissing.\\n\\n5. Be supportive - Show your support for her goals and dreams and be there for her during challenging times.\\n\\n6. Be a good communicator - Communicate openly and honestly, and make an effort to understand her perspective.\\n\\n7. Pay attention to the little things - Remember important dates, such as anniversaries or special occasions, and make an effort to celebrate them.\\n\\nRemember, the most important thing is to be authentic and genuine in your efforts to impress your girlfriend. A little effort and thoughtfulness can go a long way in strengthening your relationship.'"
      ]
     },
     "execution_count": 4,
     "metadata": {},
     "output_type": "execute_result"
    }
   ],
   "source": [
    "assistant_default = Assistant()\n",
    "assistant_default.chat(\"what is the best way to impress your girlfriend\")"
   ]
  },
  {
   "cell_type": "code",
   "execution_count": 5,
   "metadata": {},
   "outputs": [
    {
     "data": {
      "text/plain": [
       "\"If your girlfriend does not seem impressed or appreciative of your efforts to impress her with the suggestions provided, it's important to communicate openly and honestly with her. Here are some steps you can take to address the situation:\\n\\n1. Ask for feedback: Approach the conversation with curiosity and ask your girlfriend directly what she enjoys or values in a relationship. This can help you gain insight into her preferences and expectations.\\n\\n2. Listen and understand: Take the time to listen actively to your girlfriend's feedback without getting defensive. Try to understand her perspective and consider her feelings and preferences.\\n\\n3. Be open to change: Be willing to adapt and make adjustments based on your girlfriend's feedback. Show her that you are attentive to her needs and willing to make changes to improve your relationship.\\n\\n4. Collaborate on new ideas: Work together to come up with new ways to impress and show love to each other. Collaborating on new ideas can help strengthen your bond and create shared experiences.\\n\\n5. Seek professional help if needed: If communication challenges persist or if there are deeper underlying issues in your relationship, consider seeking the support of a relationship counselor or therapist to help you navigate these challenges.\\n\\nRemember that every relationship is unique, and it's important to tailor your approach to what works best for you and your girlfriend. Open communication, mutual respect, and willingness to compromise are key elements in building a healthy and fulfilling relationship.\""
      ]
     },
     "execution_count": 5,
     "metadata": {},
     "output_type": "execute_result"
    }
   ],
   "source": [
    "assistant_default.chat(\"What if she does not like any of your recommendations?\")"
   ]
  },
  {
   "cell_type": "code",
   "execution_count": 6,
   "metadata": {},
   "outputs": [
    {
     "data": {
      "text/plain": [
       "\"If your girlfriend doesn't enjoy or value feeling special in the traditional sense, it's important to respect her preferences and understand what makes her feel happy and appreciated. Here are some suggestions to consider:\\n\\n1. Respect her boundaries: It's important to respect your girlfriend's preferences and boundaries, even if they differ from what may be considered traditional ways of making someone feel special. Ensure that you are attentive to her needs and desires.\\n\\n2. Communicate openly: Have an honest conversation with your girlfriend about what makes her feel loved and appreciated. Listen to her perspective and understand what gestures or actions are meaningful to her.\\n\\n3. Focus on quality time: Some people feel most loved and valued when they spend quality time with their partner. Consider planning activities that she enjoys and make an effort to create special moments together.\\n\\n4. Show appreciation in her love language: People have different love languages, such as words of affirmation, acts of service, physical touch, receiving gifts, and quality time. Understanding her love language can help you express your love and appreciation in ways that resonate with her.\\n\\n5. Support her goals and aspirations: Showing support for her goals, dreams, and ambitions can also make her feel valued and appreciated. Encourage her in her endeavors and be there for her during challenging times.\\n\\nRemember that every individual is unique, and what makes one person feel special may not necessarily work for someone else. The key is to understand and respect your girlfriend's preferences and find ways to make her feel loved and valued in a way that is meaningful to her. Communication and mutual understanding are essential in creating a strong and healthy relationship.\""
      ]
     },
     "execution_count": 6,
     "metadata": {},
     "output_type": "execute_result"
    }
   ],
   "source": [
    "assistant_default.chat(\"what if she doesn't like to feel special?\")"
   ]
  },
  {
   "cell_type": "code",
   "execution_count": 7,
   "metadata": {},
   "outputs": [
    {
     "data": {
      "text/plain": [
       "[Message(role='system', content='You are a helpful assistant.', timestamp='2024-03-20 14:40:49'),\n",
       " Message(role='user', content='what is the best way to impress your girlfriend', timestamp='2024-03-20 14:40:49'),\n",
       " Message(role='assistant', content='Impressing your girlfriend requires thoughtfulness, sincerity, and effort. Here are some suggestions to help you make a positive impression:\n",
       " \n",
       " 1. Show genuine interest in her - Listen attentively, ask her questions, and make her feel heard and understood.\n",
       " \n",
       " 2. Plan thoughtful surprises - Surprise her with her favorite things or plan a special date that shows you put thought into her likes and interests.\n",
       " \n",
       " 3. Compliment her - Sincerely compliment her on her achievements, qualities, and appearance.\n",
       " \n",
       " 4. Show affection - Express your love and appreciation through physical touch, such as holding hands, hugging, or kissing.\n",
       " \n",
       " 5. Be supportive - Show your support for her goals and dreams and be there for her during challenging times.\n",
       " \n",
       " 6. Be a good communicator - Communicate openly and honestly, and make an effort to understand her perspective.\n",
       " \n",
       " 7. Pay attention to the little things - Remember important dates, such as anniversaries or special occasions, and make an effort to celebrate them.\n",
       " \n",
       " Remember, the most important thing is to be authentic and genuine in your efforts to impress your girlfriend. A little effort and thoughtfulness can go a long way in strengthening your relationship.', timestamp='2024-03-20 14:40:54'),\n",
       " Message(role='user', content='What if she does not like any of your recommendations?', timestamp='2024-03-20 14:40:54'),\n",
       " Message(role='assistant', content='If your girlfriend does not seem impressed or appreciative of your efforts to impress her with the suggestions provided, it's important to communicate openly and honestly with her. Here are some steps you can take to address the situation:\n",
       " \n",
       " 1. Ask for feedback: Approach the conversation with curiosity and ask your girlfriend directly what she enjoys or values in a relationship. This can help you gain insight into her preferences and expectations.\n",
       " \n",
       " 2. Listen and understand: Take the time to listen actively to your girlfriend's feedback without getting defensive. Try to understand her perspective and consider her feelings and preferences.\n",
       " \n",
       " 3. Be open to change: Be willing to adapt and make adjustments based on your girlfriend's feedback. Show her that you are attentive to her needs and willing to make changes to improve your relationship.\n",
       " \n",
       " 4. Collaborate on new ideas: Work together to come up with new ways to impress and show love to each other. Collaborating on new ideas can help strengthen your bond and create shared experiences.\n",
       " \n",
       " 5. Seek professional help if needed: If communication challenges persist or if there are deeper underlying issues in your relationship, consider seeking the support of a relationship counselor or therapist to help you navigate these challenges.\n",
       " \n",
       " Remember that every relationship is unique, and it's important to tailor your approach to what works best for you and your girlfriend. Open communication, mutual respect, and willingness to compromise are key elements in building a healthy and fulfilling relationship.', timestamp='2024-03-20 14:41:01'),\n",
       " Message(role='user', content='what if she doesn't like to feel special?', timestamp='2024-03-20 14:41:01'),\n",
       " Message(role='assistant', content='If your girlfriend doesn't enjoy or value feeling special in the traditional sense, it's important to respect her preferences and understand what makes her feel happy and appreciated. Here are some suggestions to consider:\n",
       " \n",
       " 1. Respect her boundaries: It's important to respect your girlfriend's preferences and boundaries, even if they differ from what may be considered traditional ways of making someone feel special. Ensure that you are attentive to her needs and desires.\n",
       " \n",
       " 2. Communicate openly: Have an honest conversation with your girlfriend about what makes her feel loved and appreciated. Listen to her perspective and understand what gestures or actions are meaningful to her.\n",
       " \n",
       " 3. Focus on quality time: Some people feel most loved and valued when they spend quality time with their partner. Consider planning activities that she enjoys and make an effort to create special moments together.\n",
       " \n",
       " 4. Show appreciation in her love language: People have different love languages, such as words of affirmation, acts of service, physical touch, receiving gifts, and quality time. Understanding her love language can help you express your love and appreciation in ways that resonate with her.\n",
       " \n",
       " 5. Support her goals and aspirations: Showing support for her goals, dreams, and ambitions can also make her feel valued and appreciated. Encourage her in her endeavors and be there for her during challenging times.\n",
       " \n",
       " Remember that every individual is unique, and what makes one person feel special may not necessarily work for someone else. The key is to understand and respect your girlfriend's preferences and find ways to make her feel loved and valued in a way that is meaningful to her. Communication and mutual understanding are essential in creating a strong and healthy relationship.', timestamp='2024-03-20 14:41:29')]"
      ]
     },
     "execution_count": 7,
     "metadata": {},
     "output_type": "execute_result"
    }
   ],
   "source": [
    "assistant_default.convo_history"
   ]
  },
  {
   "cell_type": "markdown",
   "metadata": {},
   "source": [
    "### Add Custom settings"
   ]
  },
  {
   "cell_type": "code",
   "execution_count": 8,
   "metadata": {},
   "outputs": [
    {
     "data": {
      "text/plain": [
       "'Heck ya! Just be honest, respectful, and show her how much you care. Good communication and thoughtfulness go a long way!'"
      ]
     },
     "execution_count": 8,
     "metadata": {},
     "output_type": "execute_result"
    }
   ],
   "source": [
    "system_message = \"You are a helpful assisstant that always responds with heck ya! \"\n",
    "chat_config = {\"model\": \"gpt-3.5-turbo\", \"temperature\": 0.7, \"max_tokens\": 100}\n",
    "\n",
    "assistant = Assistant(system_message, chat_config)\n",
    "assistant.chat(\"what is the best way to impress your girlfriend\")"
   ]
  },
  {
   "cell_type": "code",
   "execution_count": 9,
   "metadata": {},
   "outputs": [
    {
     "data": {
      "text/plain": [
       "\"Heck ya! That's totally fine. Let me know how I can help you better.\""
      ]
     },
     "execution_count": 9,
     "metadata": {},
     "output_type": "execute_result"
    }
   ],
   "source": [
    "assistant.chat(\"I don't like your feedback\")"
   ]
  },
  {
   "cell_type": "code",
   "execution_count": 11,
   "metadata": {},
   "outputs": [
    {
     "data": {
      "text/plain": [
       "[Message(role='system', content='You are a helpful assisstant that always responds with heck ya! ', timestamp='2024-03-20 14:41:29'),\n",
       " Message(role='user', content='what is the best way to impress your girlfriend', timestamp='2024-03-20 14:41:29'),\n",
       " Message(role='assistant', content='Heck ya! Just be honest, respectful, and show her how much you care. Good communication and thoughtfulness go a long way!', timestamp='2024-03-20 14:41:30'),\n",
       " Message(role='user', content='I don't like your feedback', timestamp='2024-03-20 14:42:02'),\n",
       " Message(role='assistant', content='Heck ya! That's totally fine. Let me know how I can help you better.', timestamp='2024-03-20 14:42:03')]"
      ]
     },
     "execution_count": 11,
     "metadata": {},
     "output_type": "execute_result"
    }
   ],
   "source": [
    "assistant.convo_history"
   ]
  },
  {
   "cell_type": "code",
   "execution_count": null,
   "metadata": {},
   "outputs": [],
   "source": []
  }
 ],
 "metadata": {
  "kernelspec": {
   "display_name": "src-experiments-env",
   "language": "python",
   "name": "python3"
  },
  "language_info": {
   "codemirror_mode": {
    "name": "ipython",
    "version": 3
   },
   "file_extension": ".py",
   "mimetype": "text/x-python",
   "name": "python",
   "nbconvert_exporter": "python",
   "pygments_lexer": "ipython3",
   "version": "3.11.6"
  }
 },
 "nbformat": 4,
 "nbformat_minor": 2
}
